{
 "cells": [
  {
   "cell_type": "code",
   "execution_count": 2,
   "metadata": {},
   "outputs": [],
   "source": [
    "import cv2\n",
    "import numpy as np"
   ]
  },
  {
   "cell_type": "code",
   "execution_count": 3,
   "metadata": {},
   "outputs": [
    {
     "name": "stdout",
     "output_type": "stream",
     "text": [
      "package imported\n"
     ]
    },
    {
     "data": {
      "text/plain": [
       "-1"
      ]
     },
     "execution_count": 3,
     "metadata": {},
     "output_type": "execute_result"
    },
    {
     "ename": "",
     "evalue": "",
     "output_type": "error",
     "traceback": [
      "\u001b[1;31mThe Kernel crashed while executing code in the the current cell or a previous cell. Please review the code in the cell(s) to identify a possible cause of the failure. Click <a href='https://aka.ms/vscodeJupyterKernelCrash'>here</a> for more info. View Jupyter <a href='command:jupyter.viewOutput'>log</a> for further details."
     ]
    }
   ],
   "source": [
    "# image\n",
    "print('package imported')\n",
    "img = cv2.imread('resources/images/ubuntu.png')\n",
    "cv2.imshow('output', img)\n",
    "cv2.waitKey(4000)"
   ]
  },
  {
   "cell_type": "code",
   "execution_count": 3,
   "metadata": {},
   "outputs": [
    {
     "ename": "",
     "evalue": "",
     "output_type": "error",
     "traceback": [
      "\u001b[1;31mThe Kernel crashed while executing code in the the current cell or a previous cell. Please review the code in the cell(s) to identify a possible cause of the failure. Click <a href='https://aka.ms/vscodeJupyterKernelCrash'>here</a> for more info. View Jupyter <a href='command:jupyter.viewOutput'>log</a> for further details."
     ]
    }
   ],
   "source": [
    "# video\n",
    "cap = cv2.VideoCapture('resources/videos/baby.mp4')\n",
    "while True:\n",
    "    success, img = cap.read()\n",
    "    cv2.imshow('video', img)\n",
    "    if cv2.waitKey(1) & 0xFF == ord('q'):\n",
    "        break\n"
   ]
  },
  {
   "cell_type": "code",
   "execution_count": null,
   "metadata": {},
   "outputs": [],
   "source": [
    "# webcam\n",
    "cam = cv2.VideoCapture(0)\n",
    "\n",
    "while True:\n",
    "    check, frame = cam.read()\n",
    "    cv2.imshow('video', frame)\n",
    "    key = cv2.waitKey(1)\n",
    "    if key & 0xFF == ord('q'):\n",
    "        break\n",
    "cam.release()\n",
    "cv2.destroyAllWindows()"
   ]
  },
  {
   "cell_type": "code",
   "execution_count": null,
   "metadata": {},
   "outputs": [],
   "source": [
    "# color sections\n",
    "img =  cv2.imread('resources/images/ubuntu.png')\n",
    "kernel = np.ones((5,5), np.uint8)\n",
    "\n",
    "imgGray = cv2.cvtColor(img, cv2.COLOR_BGR2GRAY)\n",
    "imgBlur =  cv2.GaussianBlur(imgGray,(7,7), 0)\n",
    "imgCanny = cv2.Canny(img, 100, 100)\n",
    "imgDialation = cv2.dilate(imgCanny, kernel, iterations=1)\n",
    "imgEroded = cv2.erode(imgDialation, kernel, iterations=1)\n",
    "\n",
    "cv2.imshow('gray', imgGray)\n",
    "cv2.imshow('blur', imgBlur)\n",
    "cv2.imshow('canny', imgCanny)\n",
    "cv2.imshow('Dilation', imgDialation)\n",
    "cv2.imshow('Eroded', imgEroded)\n",
    "\n",
    "cv2.waitKey(0)"
   ]
  },
  {
   "cell_type": "code",
   "execution_count": null,
   "metadata": {},
   "outputs": [],
   "source": [
    "# Resize and cropping\n",
    "img = cv2.imread('resources/images/linux_mint_logo.png')\n",
    "print(img.shape)\n",
    "\n",
    "imgResize = cv2.resize(img, (300, 200))\n",
    "print(imgResize.shape)\n",
    "\n",
    "imgCropped = img[0:200, 200:500]\n",
    "\n",
    "cv2.imshow('Image', img)\n",
    "cv2.imshow('Image Resize', imgResize)\n",
    "cv2.imshow('Image crop',imgCropped)\n",
    "\n",
    "cv2.waitKey(0)"
   ]
  },
  {
   "cell_type": "code",
   "execution_count": null,
   "metadata": {},
   "outputs": [],
   "source": [
    "# drawing on images\n",
    "\n",
    "img = np.zeros((512, 512,3), np.uint8)\n",
    "\n",
    "# print(img.shape)\n",
    "# img[200:500, 100:300] = 255,0,0\n",
    "\n",
    "cv2.line(img, (0,0), (img.shape[1],img.shape[0]), (0,255,0), 3)\n",
    "cv2.rectangle(img, (0,0), (250, 350),(0,0, 255), 2) #cv2.FILLED)\n",
    "cv2.circle(img, (400, 50),30, (255, 255, 0), 5)\n",
    "cv2.putText(img, \"OpenCV\", (300, 200),cv2.FONT_HERSHEY_COMPLEX,1.5,(0,150,0),3)\n",
    "\n",
    "cv2.imshow('Image', img)\n",
    "\n",
    "cv2.waitKey(0)"
   ]
  },
  {
   "cell_type": "code",
   "execution_count": null,
   "metadata": {},
   "outputs": [],
   "source": []
  }
 ],
 "metadata": {
  "kernelspec": {
   "display_name": "Python 3",
   "language": "python",
   "name": "python3"
  },
  "language_info": {
   "codemirror_mode": {
    "name": "ipython",
    "version": 3
   },
   "file_extension": ".py",
   "mimetype": "text/x-python",
   "name": "python",
   "nbconvert_exporter": "python",
   "pygments_lexer": "ipython3",
   "version": "3.11.2"
  },
  "orig_nbformat": 4
 },
 "nbformat": 4,
 "nbformat_minor": 2
}
